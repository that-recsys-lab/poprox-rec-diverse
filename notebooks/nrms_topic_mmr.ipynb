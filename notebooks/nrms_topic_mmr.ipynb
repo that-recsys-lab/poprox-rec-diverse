{
 "cells": [
  {
   "cell_type": "code",
   "execution_count": 1,
   "metadata": {},
   "outputs": [
    {
     "name": "stderr",
     "output_type": "stream",
     "text": [
      "/home/vscode/poprox-venv/lib/python3.12/site-packages/tqdm/auto.py:21: TqdmWarning: IProgress not found. Please update jupyter and ipywidgets. See https://ipywidgets.readthedocs.io/en/stable/user_install.html\n",
      "  from .autonotebook import tqdm as notebook_tqdm\n"
     ]
    }
   ],
   "source": [
    "import json\n",
    "import warnings\n",
    "from collections import Counter\n",
    "from pathlib import Path\n",
    "from typing import Any, Dict, List\n",
    "\n",
    "import matplotlib.pyplot as plt\n",
    "import pandas as pd\n",
    "\n",
    "from poprox_concepts.api.recommendations.v2 import RecommendationRequestV2, RecommendationResponseV2\n",
    "from poprox_recommender.api.main import root\n",
    "from poprox_recommender.paths import project_root\n",
    "from poprox_recommender.topics import extract_general_topics"
   ]
  },
  {
   "cell_type": "code",
   "execution_count": 2,
   "metadata": {},
   "outputs": [],
   "source": [
    "def load_test_request(request_file: str = \"onboarding.json\") -> RecommendationRequestV2: #onboarding or basic request?\n",
    "    \"\"\"Load a test request from the request data directory.\"\"\"\n",
    "    request_path = project_root() / \"tests\" / \"request_data\" / request_file\n",
    "    if not request_path.exists():\n",
    "        raise FileNotFoundError(f\"Test request file not found: {request_path}\")\n",
    "\n",
    "    with open(request_path, \"r\") as f:\n",
    "        raw_json = f.read()\n",
    "\n",
    "    return RecommendationRequestV2.model_validate_json(raw_json)"
   ]
  },
  {
   "cell_type": "code",
   "execution_count": 4,
   "metadata": {},
   "outputs": [],
   "source": [
    "def test_pipeline(pipeline_name: str, request: RecommendationRequestV2) -> Dict[str, Any]:\n",
    "    \"\"\"Test a specific pipeline configuration and return results.\"\"\"\n",
    "    try:\n",
    "        print(f\"   Testing {pipeline_name}...\")\n",
    "\n",
    "        # Call the API endpoint directly\n",
    "        response = root(request.model_dump(), pipeline=pipeline_name)\n",
    "        response_obj = RecommendationResponseV2.model_validate(response)\n",
    "\n",
    "        recommendations = response_obj.recommendations.articles\n",
    "\n",
    "        # Extract topics for each recommendation\n",
    "        topics_list = []\n",
    "        for article in recommendations:\n",
    "            try:\n",
    "                topics = extract_general_topics(article)\n",
    "                topics_list.append(topics)\n",
    "            except Exception as e:\n",
    "                print(f\"     Warning: Failed to extract topics for article {article.article_id}: {e}\")\n",
    "                topics_list.append([])\n",
    "\n",
    "        return {\n",
    "            \"pipeline\": pipeline_name,\n",
    "            \"recommendations\": recommendations,\n",
    "            \"topics\": topics_list,\n",
    "            \"success\": True,\n",
    "            \"num_recommendations\": len(recommendations),\n",
    "        }\n",
    "\n",
    "    except Exception as e:\n",
    "        print(f\"     ✗ Failed: {str(e)}\")\n",
    "        return {\"pipeline\": pipeline_name, \"error\": str(e), \"success\": False, \"num_recommendations\": 0}\n"
   ]
  },
  {
   "cell_type": "code",
   "execution_count": 5,
   "metadata": {},
   "outputs": [],
   "source": [
    "def analyze_recommendations(results: Dict[str, Dict[str, Any]]) -> Dict[str, Dict[str, Any]]:\n",
    "    \"\"\"Analyze recommendation results for topic diversity and distribution.\"\"\"\n",
    "    analysis = {}\n",
    "\n",
    "    for pipeline_name, result in results.items():\n",
    "        if not result[\"success\"]:\n",
    "            analysis[pipeline_name] = {\n",
    "                \"success\": False,\n",
    "                \"num_recommendations\": 0,\n",
    "                \"topic_diversity\": 0,\n",
    "                \"topic_distribution\": {},\n",
    "                \"recommendations\": [],\n",
    "                \"topics\": [],\n",
    "            }\n",
    "            continue\n",
    "\n",
    "        recommendations = result[\"recommendations\"]\n",
    "        topics_list = result[\"topics\"]\n",
    "\n",
    "        # Count unique topics\n",
    "        all_topics = []\n",
    "        for topics in topics_list:\n",
    "            if topics:  # Check if topics is not empty\n",
    "                all_topics.extend(topics)\n",
    "\n",
    "        topic_distribution = Counter(all_topics)\n",
    "        topic_diversity = len(topic_distribution)\n",
    "\n",
    "        analysis[pipeline_name] = {\n",
    "            \"success\": True,\n",
    "            \"num_recommendations\": len(recommendations),\n",
    "            \"topic_diversity\": topic_diversity,\n",
    "            \"topic_distribution\": dict(topic_distribution),\n",
    "            \"recommendations\": recommendations,\n",
    "            \"topics\": topics_list,\n",
    "        }\n",
    "\n",
    "    return analysis"
   ]
  },
  {
   "cell_type": "code",
   "execution_count": 6,
   "metadata": {},
   "outputs": [],
   "source": [
    "def analyze_user_topic_alignment(\n",
    "    user_topics: List[str], recommendations: List, topics_list: List[List[str]]\n",
    ") -> Dict[str, Any]:\n",
    "    \"\"\"Analyze how well recommendations align with user's topic interests.\"\"\"\n",
    "    if not user_topics or not recommendations:\n",
    "        return {\n",
    "            \"avg_alignment\": 0.0,\n",
    "            \"matching_articles\": 0,\n",
    "            \"total_articles\": len(recommendations),\n",
    "            \"alignment_scores\": [],\n",
    "        }\n",
    "\n",
    "    alignment_scores = []\n",
    "    matching_articles = 0\n",
    "\n",
    "    for i, (article, article_topics) in enumerate(zip(recommendations, topics_list)):\n",
    "        if not article_topics:\n",
    "            alignment_scores.append(0.0)\n",
    "            continue\n",
    "\n",
    "        # Calculate alignment score based on topic overlap\n",
    "        topic_overlap = len(set(user_topics) & set(article_topics))\n",
    "        max_possible = len(set(user_topics) | set(article_topics))\n",
    "\n",
    "        if max_possible > 0:\n",
    "            alignment_score = topic_overlap / max_possible\n",
    "        else:\n",
    "            alignment_score = 0.0\n",
    "\n",
    "        alignment_scores.append(alignment_score)\n",
    "\n",
    "        if alignment_score > 0:\n",
    "            matching_articles += 1\n",
    "\n",
    "    avg_alignment = sum(alignment_scores) / len(alignment_scores) if alignment_scores else 0.0\n",
    "\n",
    "    return {\n",
    "        \"avg_alignment\": avg_alignment,\n",
    "        \"matching_articles\": matching_articles,\n",
    "        \"total_articles\": len(recommendations),\n",
    "        \"alignment_scores\": alignment_scores,\n",
    "    }"
   ]
  },
  {
   "cell_type": "code",
   "execution_count": 7,
   "metadata": {},
   "outputs": [],
   "source": [
    "def print_recommendations(pipeline_name: str, recommendations: List, topics_list: List[List[str]]):\n",
    "    \"\"\"Print formatted recommendations with topics.\"\"\"\n",
    "    print(f\"\\n{pipeline_name.upper()} Recommendations:\")\n",
    "    print(\"-\" * 50)\n",
    "\n",
    "    for idx, (article, topics) in enumerate(zip(recommendations, topics_list)):\n",
    "        topic_str = f\" [{', '.join(topics)}]\" if topics else \" [No topics]\"\n",
    "        print(f\"{idx + 1:2d}. {article.headline}{topic_str}\")\n",
    "\n",
    "        # Show some debugging info for the first few articles\n",
    "        if idx < 3:\n",
    "            print(f\"      Article ID: {article.article_id}\")\n",
    "            print(f\"      Headline: {article.headline}\")\n",
    "            if hasattr(article, \"subhead\") and article.subhead:\n",
    "                print(f\"      Subhead: {article.subhead[:100]}...\")\n",
    "            if hasattr(article, \"body\") and article.body:\n",
    "                print(f\"      Body preview: {article.body[:100]}...\")\n",
    "            print(f\"      Extracted topics: {topics}\")\n",
    "            print()"
   ]
  },
  {
   "cell_type": "code",
   "execution_count": 16,
   "metadata": {},
   "outputs": [],
   "source": [
    "def create_visualizations(analysis: Dict[str, Dict[str, Any]], output_dir: Path = None):\n",
    "    \"\"\"Create visualizations for the analysis results.\"\"\"\n",
    "    if output_dir is None:\n",
    "        output_dir = project_root() / \"outputs\" / \"demo\"\n",
    "\n",
    "    output_dir.mkdir(parents=True, exist_ok=True)\n",
    "\n",
    "    # Prepare data for plotting\n",
    "    pipeline_names = list(analysis.keys())\n",
    "    diversity_scores = [analysis[p][\"topic_diversity\"] for p in pipeline_names]\n",
    "\n",
    "    # Create figure with subplots\n",
    "    fig, (ax1, ax2) = plt.subplots(1, 2, figsize=(15, 6))\n",
    "\n",
    "    # Topic diversity comparison\n",
    "    bars = ax1.bar(pipeline_names, diversity_scores, color=[\"skyblue\", \"lightcoral\", \"lightgreen\"])\n",
    "    ax1.set_title(\"Topic Diversity Comparison\", fontsize=14, fontweight=\"bold\")\n",
    "    ax1.set_ylabel(\"Number of Unique Topics\", fontsize=12)\n",
    "    ax1.tick_params(axis=\"x\", rotation=45)\n",
    "\n",
    "    # Add value labels on bars\n",
    "    for bar, score in zip(bars, diversity_scores):\n",
    "        ax1.text(\n",
    "            bar.get_x() + bar.get_width() / 2,\n",
    "            bar.get_height() + 0.1,\n",
    "            str(score),\n",
    "            ha=\"center\",\n",
    "            va=\"bottom\",\n",
    "            fontweight=\"bold\",\n",
    "        )\n",
    "\n",
    "    # Topic distribution for NRMS-Topic-MMR\n",
    "    if \"nrms_topic_mmr\" in analysis:\n",
    "        topic_dist = analysis[\"nrms_topic_mmr\"][\"topic_distribution\"]\n",
    "\n",
    "        if topic_dist:\n",
    "            # Sort by frequency and take top 10\n",
    "            sorted_topics = sorted(topic_dist.items(), key=lambda x: x[1], reverse=True)[:10]\n",
    "            topics, counts = zip(*sorted_topics)\n",
    "\n",
    "            ax2.barh(range(len(topics)), counts, color=\"lightcoral\")\n",
    "            ax2.set_yticks(range(len(topics)))\n",
    "            ax2.set_yticklabels(topics)\n",
    "            ax2.set_title(\"Topic Distribution (NRMS-Topic-MMR)\", fontsize=14, fontweight=\"bold\")\n",
    "            ax2.set_xlabel(\"Frequency\", fontsize=12)\n",
    "        else:\n",
    "            ax2.text(0.5, 0.5, \"No topics found\", ha=\"center\", va=\"center\", transform=ax2.transAxes, fontsize=12)\n",
    "            ax2.set_title(\"Topic Distribution (NRMS-Topic-MMR)\", fontsize=14, fontweight=\"bold\")\n",
    "\n",
    "    plt.tight_layout()\n",
    "\n",
    "    plt.show()"
   ]
  },
  {
   "cell_type": "code",
   "execution_count": 9,
   "metadata": {},
   "outputs": [
    {
     "name": "stdout",
     "output_type": "stream",
     "text": [
      "\n",
      "1. Loading test data...\n",
      "   ✓ Loaded test request with 64 candidates\n",
      "   ✓ User has 64 clicked articles\n",
      "   ✓ Requesting 10 recommendations\n"
     ]
    }
   ],
   "source": [
    "print(\"\\n1. Loading test data...\")\n",
    "try:\n",
    "    request = load_test_request(\"onboarding.json\")\n",
    "    print(f\"   ✓ Loaded test request with {len(request.candidates.articles)} candidates\")\n",
    "    print(f\"   ✓ User has {len(request.interacted.articles)} clicked articles\")\n",
    "    print(f\"   ✓ Requesting {request.num_recs} recommendations\")\n",
    "except Exception as e:\n",
    "    print(f\"   ✗ Failed to load test data: {e}\")"
   ]
  },
  {
   "cell_type": "code",
   "execution_count": 11,
   "metadata": {},
   "outputs": [
    {
     "name": "stdout",
     "output_type": "stream",
     "text": [
      "\n",
      "2. Defining pipeline configurations...\n",
      "   ✓ Testing 3 pipeline configurations\n"
     ]
    }
   ],
   "source": [
    "print(\"\\n2. Defining pipeline configurations...\")\n",
    "pipelines_to_test = [\n",
    "    \"nrms\",  # Baseline NRMS\n",
    "    \"mmr\",  # NRMS with MMR diversification\n",
    "    \"nrms_topic_mmr\",  # Our new combined pipeline\n",
    "]\n",
    "print(f\"   ✓ Testing {len(pipelines_to_test)} pipeline configurations\")"
   ]
  },
  {
   "cell_type": "code",
   "execution_count": 12,
   "metadata": {},
   "outputs": [
    {
     "name": "stdout",
     "output_type": "stream",
     "text": [
      "\n",
      "3. Testing pipeline configurations...\n",
      "   Testing nrms...\n",
      "\u001b[2m2025-06-19 03:28:13\u001b[0m [\u001b[32m\u001b[1mdebug    \u001b[0m] \u001b[1mconfiguring pipeline          \u001b[0m \u001b[36mdevice\u001b[0m=\u001b[35mcpu\u001b[0m \u001b[36mname\u001b[0m=\u001b[35mnrms\u001b[0m \u001b[36mnum_slots\u001b[0m=\u001b[35m10\u001b[0m\n"
     ]
    },
    {
     "name": "stderr",
     "output_type": "stream",
     "text": [
      "/home/vscode/poprox-venv/lib/python3.12/site-packages/lenskit/pipeline/config.py:43: UserWarning: hook <function shallow_copy_pydantic_model at 0xffff220347c0> is not a function\n",
      "  warnings.warn(f\"hook {hook.function} is not a function\")\n"
     ]
    },
    {
     "name": "stdout",
     "output_type": "stream",
     "text": [
      "     ✓ Success: 10 recommendations\n",
      "   Testing mmr...\n",
      "\u001b[2m2025-06-19 03:28:16\u001b[0m [\u001b[32m\u001b[1mdebug    \u001b[0m] \u001b[1mconfiguring pipeline          \u001b[0m \u001b[36mdevice\u001b[0m=\u001b[35mcpu\u001b[0m \u001b[36mname\u001b[0m=\u001b[35mmmr\u001b[0m \u001b[36mnum_slots\u001b[0m=\u001b[35m10\u001b[0m\n",
      "     ✓ Success: 10 recommendations\n",
      "   Testing nrms_topic_mmr...\n"
     ]
    },
    {
     "name": "stderr",
     "output_type": "stream",
     "text": [
      "/home/vscode/poprox-venv/lib/python3.12/site-packages/lenskit/pipeline/config.py:43: UserWarning: hook <function shallow_copy_pydantic_model at 0xffff220347c0> is not a function\n",
      "  warnings.warn(f\"hook {hook.function} is not a function\")\n"
     ]
    },
    {
     "name": "stdout",
     "output_type": "stream",
     "text": [
      "\u001b[2m2025-06-19 03:28:17\u001b[0m [\u001b[32m\u001b[1mdebug    \u001b[0m] \u001b[1mconfiguring pipeline          \u001b[0m \u001b[36mdevice\u001b[0m=\u001b[35mcpu\u001b[0m \u001b[36mname\u001b[0m=\u001b[35mnrms_topic_mmr\u001b[0m \u001b[36mnum_slots\u001b[0m=\u001b[35m10\u001b[0m\n",
      "     ✓ Success: 10 recommendations\n"
     ]
    }
   ],
   "source": [
    "print(\"\\n3. Testing pipeline configurations...\")\n",
    "results = {}\n",
    "\n",
    "for pipeline_name in pipelines_to_test:\n",
    "    result = test_pipeline(pipeline_name, request)\n",
    "    results[pipeline_name] = result\n",
    "\n",
    "    if result[\"success\"]:\n",
    "        print(f\"     ✓ Success: {result['num_recommendations']} recommendations\")\n",
    "    else:\n",
    "        print(f\"     ✗ Failed: {result['error']}\")"
   ]
  },
  {
   "cell_type": "code",
   "execution_count": 13,
   "metadata": {},
   "outputs": [
    {
     "name": "stdout",
     "output_type": "stream",
     "text": [
      "\n",
      "4. Analyzing results...\n",
      "\n",
      "Recommendation Analysis:\n",
      "==================================================\n",
      "\n",
      "NRMS:\n",
      "  Recommendations: 10\n",
      "  Topic Diversity: 6 unique topics\n",
      "  Top Topics: Sports(7), U.S. news(5), Technology(1)\n",
      "\n",
      "MMR:\n",
      "  Recommendations: 10\n",
      "  Topic Diversity: 7 unique topics\n",
      "  Top Topics: Sports(5), U.S. news(5), World news(2)\n",
      "\n",
      "NRMS_TOPIC_MMR:\n",
      "  Recommendations: 10\n",
      "  Topic Diversity: 8 unique topics\n",
      "  Top Topics: U.S. news(5), Sports(4), Business(2)\n"
     ]
    }
   ],
   "source": [
    "print(\"\\n4. Analyzing results...\")\n",
    "analysis = analyze_recommendations(results)\n",
    "\n",
    "print(\"\\nRecommendation Analysis:\")\n",
    "print(\"=\" * 50)\n",
    "\n",
    "for pipeline_name, data in analysis.items():\n",
    "    print(f\"\\n{pipeline_name.upper()}:\")\n",
    "    print(f\"  Recommendations: {data['num_recommendations']}\")\n",
    "    print(f\"  Topic Diversity: {data['topic_diversity']} unique topics\")\n",
    "\n",
    "    if data[\"topic_distribution\"]:\n",
    "        top_topics = sorted(data[\"topic_distribution\"].items(), key=lambda x: x[1], reverse=True)[:3]\n",
    "        topic_str = \", \".join([f\"{topic}({count})\" for topic, count in top_topics])\n",
    "        print(f\"  Top Topics: {topic_str}\")\n",
    "    else:\n",
    "        print(f\"  Top Topics: None\")\n"
   ]
  },
  {
   "cell_type": "code",
   "execution_count": 14,
   "metadata": {},
   "outputs": [
    {
     "name": "stdout",
     "output_type": "stream",
     "text": [
      "\n",
      "5. Analyzing user topic alignment...\n",
      "   User topics: Education, Lifestyle, Oddities, Climate and environment, Health, Religion, Sports, U.S. news, Science, Business, Politics, Technology, Entertainment, World news\n",
      "\n",
      "Topic Alignment Analysis:\n",
      "==================================================\n",
      "\n",
      "NRMS:\n",
      "  Average Alignment: 0.114\n",
      "  Matching Articles: 10/10\n",
      "  Match Rate: 100.0%\n",
      "\n",
      "MMR:\n",
      "  Average Alignment: 0.114\n",
      "  Matching Articles: 10/10\n",
      "  Match Rate: 100.0%\n",
      "\n",
      "NRMS_TOPIC_MMR:\n",
      "  Average Alignment: 0.129\n",
      "  Matching Articles: 10/10\n",
      "  Match Rate: 100.0%\n"
     ]
    }
   ],
   "source": [
    "print(\"\\n5. Analyzing user topic alignment...\")\n",
    "user_topics = [t.entity_name for t in request.interest_profile.onboarding_topics]\n",
    "\n",
    "if user_topics:\n",
    "    print(f\"   User topics: {', '.join(user_topics)}\")\n",
    "\n",
    "    alignment_analysis = {}\n",
    "    for pipeline_name, data in analysis.items():\n",
    "        alignment = analyze_user_topic_alignment(user_topics, data[\"recommendations\"], data[\"topics\"])\n",
    "        alignment_analysis[pipeline_name] = alignment\n",
    "\n",
    "    print(\"\\nTopic Alignment Analysis:\")\n",
    "    print(\"=\" * 50)\n",
    "\n",
    "    for pipeline_name, alignment in alignment_analysis.items():\n",
    "        print(f\"\\n{pipeline_name.upper()}:\")\n",
    "        print(f\"  Average Alignment: {alignment['avg_alignment']:.3f}\")\n",
    "        print(f\"  Matching Articles: {alignment['matching_articles']}/{alignment['total_articles']}\")\n",
    "        if alignment[\"total_articles\"] > 0:\n",
    "            match_rate = alignment[\"matching_articles\"] / alignment[\"total_articles\"]\n",
    "            print(f\"  Match Rate: {match_rate:.1%}\")\n",
    "else:\n",
    "    print(\"   No user topics found in profile\")"
   ]
  },
  {
   "cell_type": "code",
   "execution_count": 15,
   "metadata": {},
   "outputs": [
    {
     "name": "stdout",
     "output_type": "stream",
     "text": [
      "\n",
      "6. Detailed Recommendations:\n",
      "==================================================\n",
      "\n",
      "NRMS Recommendations:\n",
      "--------------------------------------------------\n",
      " 1. Man City crisis deepens after another loss and Arsenal closes gap on Liverpool [Sports]\n",
      "      Article ID: a713c6f1-6b09-4730-9c83-585f29ec475a\n",
      "      Headline: Man City crisis deepens after another loss and Arsenal closes gap on Liverpool\n",
      "      Subhead: Manchester City’s stunning slump has deepened after losing at Aston Villa 2-1 in the Premier League...\n",
      "      Body preview: \n",
      "\n",
      "Manchester City’s stunning slump deepened after losing to Aston Villa 2-1 in the Premier League on...\n",
      "      Extracted topics: {'Sports'}\n",
      "\n",
      " 2. Ex-OpenAI engineer who raised legal concerns about the technology he helped build has died [Technology, Business, U.S. news, World news]\n",
      "      Article ID: 2169d95d-8691-479e-8ac6-1bc86e33ed2e\n",
      "      Headline: Ex-OpenAI engineer who raised legal concerns about the technology he helped build has died\n",
      "      Subhead: Suchir Balaji, a former OpenAI engineer and whistleblower who helped train the artificial intelligen...\n",
      "      Body preview: \n",
      "\n",
      "Suchir Balaji, a former OpenAI engineer and whistleblower who helped train the artificial intellig...\n",
      "      Extracted topics: {'Technology', 'Business', 'U.S. news', 'World news'}\n",
      "\n",
      " 3. NBA fines Celtics coach Joe Mazzulla $35,000 for postgame comments toward officials [Sports]\n",
      "      Article ID: e977f983-b3d0-4495-bd51-8d6d22ce612d\n",
      "      Headline: NBA fines Celtics coach Joe Mazzulla $35,000 for postgame comments toward officials\n",
      "      Subhead: Joe Mazzulla’s Christmas greetings were costly...\n",
      "      Body preview: \n",
      "\n",
      "NEW YORK (AP) — Joe Mazzulla's Christmas greetings were costly.\n",
      "The NBA fined the Boston Celtics c...\n",
      "      Extracted topics: {'Sports'}\n",
      "\n",
      " 4. Former walk-on DeLuca provides early spark, Penn State drills SMU 38-10 in CFP; Boise State up next [Sports, U.S. news]\n",
      " 5. First baseman Paul Goldschmidt and the Yankees agree to a $12.5 million, 1-year deal, AP source says [Sports]\n",
      " 6. Top-ranking NYPD officer abruptly resigns amid sexual misconduct allegations [U.S. news]\n",
      " 7. Shutdown saga exposes new fault lines for Speaker Johnson and tests his grip on the gavel [Politics]\n",
      " 8. When 2025 arrives, so will the end of the amateur athlete in college sports [Sports, U.S. news]\n",
      " 9. JuJu Watkins and No. 7 USC hold off Paige Bueckers and fourth-ranked UConn 72-70 [Sports]\n",
      "10. College playoffs looks for good matchups after snoozy first round of blowouts [Sports, U.S. news]\n",
      "\n",
      "MMR Recommendations:\n",
      "--------------------------------------------------\n",
      " 1. Man City crisis deepens after another loss and Arsenal closes gap on Liverpool [Sports]\n",
      "      Article ID: a713c6f1-6b09-4730-9c83-585f29ec475a\n",
      "      Headline: Man City crisis deepens after another loss and Arsenal closes gap on Liverpool\n",
      "      Subhead: Manchester City’s stunning slump has deepened after losing at Aston Villa 2-1 in the Premier League...\n",
      "      Body preview: \n",
      "\n",
      "Manchester City’s stunning slump deepened after losing to Aston Villa 2-1 in the Premier League on...\n",
      "      Extracted topics: {'Sports'}\n",
      "\n",
      " 2. Ex-OpenAI engineer who raised legal concerns about the technology he helped build has died [Technology, Business, U.S. news, World news]\n",
      "      Article ID: 2169d95d-8691-479e-8ac6-1bc86e33ed2e\n",
      "      Headline: Ex-OpenAI engineer who raised legal concerns about the technology he helped build has died\n",
      "      Subhead: Suchir Balaji, a former OpenAI engineer and whistleblower who helped train the artificial intelligen...\n",
      "      Body preview: \n",
      "\n",
      "Suchir Balaji, a former OpenAI engineer and whistleblower who helped train the artificial intellig...\n",
      "      Extracted topics: {'Technology', 'Business', 'U.S. news', 'World news'}\n",
      "\n",
      " 3. NBA fines Celtics coach Joe Mazzulla $35,000 for postgame comments toward officials [Sports]\n",
      "      Article ID: e977f983-b3d0-4495-bd51-8d6d22ce612d\n",
      "      Headline: NBA fines Celtics coach Joe Mazzulla $35,000 for postgame comments toward officials\n",
      "      Subhead: Joe Mazzulla’s Christmas greetings were costly...\n",
      "      Body preview: \n",
      "\n",
      "NEW YORK (AP) — Joe Mazzulla's Christmas greetings were costly.\n",
      "The NBA fined the Boston Celtics c...\n",
      "      Extracted topics: {'Sports'}\n",
      "\n",
      " 4. Top-ranking NYPD officer abruptly resigns amid sexual misconduct allegations [U.S. news]\n",
      " 5. When 2025 arrives, so will the end of the amateur athlete in college sports [Sports, U.S. news]\n",
      " 6. Former walk-on DeLuca provides early spark, Penn State drills SMU 38-10 in CFP; Boise State up next [Sports, U.S. news]\n",
      " 7. Shutdown saga exposes new fault lines for Speaker Johnson and tests his grip on the gavel [Politics]\n",
      " 8. NASA's Parker Solar Probe aims to fly closer to the sun like never before [Science]\n",
      " 9. 2 US Navy pilots shot down over Red Sea in apparent 'friendly fire' incident, US military says [World news]\n",
      "10. College playoffs looks for good matchups after snoozy first round of blowouts [Sports, U.S. news]\n",
      "\n",
      "NRMS_TOPIC_MMR Recommendations:\n",
      "--------------------------------------------------\n",
      " 1. Man City crisis deepens after another loss and Arsenal closes gap on Liverpool [Sports]\n",
      "      Article ID: a713c6f1-6b09-4730-9c83-585f29ec475a\n",
      "      Headline: Man City crisis deepens after another loss and Arsenal closes gap on Liverpool\n",
      "      Subhead: Manchester City’s stunning slump has deepened after losing at Aston Villa 2-1 in the Premier League...\n",
      "      Body preview: \n",
      "\n",
      "Manchester City’s stunning slump deepened after losing to Aston Villa 2-1 in the Premier League on...\n",
      "      Extracted topics: {'Sports'}\n",
      "\n",
      " 2. Ex-OpenAI engineer who raised legal concerns about the technology he helped build has died [Technology, Business, U.S. news, World news]\n",
      "      Article ID: 2169d95d-8691-479e-8ac6-1bc86e33ed2e\n",
      "      Headline: Ex-OpenAI engineer who raised legal concerns about the technology he helped build has died\n",
      "      Subhead: Suchir Balaji, a former OpenAI engineer and whistleblower who helped train the artificial intelligen...\n",
      "      Body preview: \n",
      "\n",
      "Suchir Balaji, a former OpenAI engineer and whistleblower who helped train the artificial intellig...\n",
      "      Extracted topics: {'Technology', 'Business', 'U.S. news', 'World news'}\n",
      "\n",
      " 3. Biden signs bill that averts a government shutdown and brings a close to days of Washington upheaval [Business, U.S. news, Politics]\n",
      "      Article ID: c599f269-51a1-4221-9549-fe58bfa23cce\n",
      "      Headline: Biden signs bill that averts a government shutdown and brings a close to days of Washington upheaval\n",
      "      Subhead: President Joe Biden has signed a bill into law that averts a government shutdown...\n",
      "      Extracted topics: {'Business', 'U.S. news', 'Politics'}\n",
      "\n",
      " 4. 2 US Navy pilots shot down over Red Sea in apparent 'friendly fire' incident, US military says [World news]\n",
      " 5. NBA fines Celtics coach Joe Mazzulla $35,000 for postgame comments toward officials [Sports]\n",
      " 6. Top-ranking NYPD officer abruptly resigns amid sexual misconduct allegations [U.S. news]\n",
      " 7. When 2025 arrives, so will the end of the amateur athlete in college sports [Sports, U.S. news]\n",
      " 8. Shutdown saga exposes new fault lines for Speaker Johnson and tests his grip on the gavel [Politics]\n",
      " 9. Former walk-on DeLuca provides early spark, Penn State drills SMU 38-10 in CFP; Boise State up next [Sports, U.S. news]\n",
      "10. In a calendar rarity, Hanukkah starts this year on Christmas Day [Religion, Lifestyle]\n"
     ]
    }
   ],
   "source": [
    "print(\"\\n6. Detailed Recommendations:\")\n",
    "print(\"=\" * 50)\n",
    "\n",
    "for pipeline_name, data in analysis.items():\n",
    "    if data[\"success\"] and data[\"recommendations\"]:\n",
    "        print_recommendations(pipeline_name, data[\"recommendations\"], data[\"topics\"])"
   ]
  },
  {
   "cell_type": "code",
   "execution_count": 17,
   "metadata": {},
   "outputs": [
    {
     "name": "stdout",
     "output_type": "stream",
     "text": [
      "\n",
      "7. Creating visualizations...\n"
     ]
    },
    {
     "data": {
      "image/png": "[encoded data removed]",
      "text/plain": [
       "<Figure size 1500x600 with 2 Axes>"
      ]
     },
     "metadata": {},
     "output_type": "display_data"
    }
   ],
   "source": [
    "print(\"\\n7. Creating visualizations...\")\n",
    "try:\n",
    "    create_visualizations(analysis)\n",
    "except Exception as e:\n",
    "    print(f\"   ✗ Failed to create visualizations: {e}\")\n"
   ]
  },
  {
   "cell_type": "code",
   "execution_count": 18,
   "metadata": {},
   "outputs": [
    {
     "name": "stdout",
     "output_type": "stream",
     "text": [
      "\n",
      "8. Summary:\n",
      "==================================================\n",
      "Successful pipelines: 3\n",
      "  - nrms, mmr, nrms_topic_mmr\n",
      "\n",
      "Best topic diversity: nrms_topic_mmr (8 topics)\n"
     ]
    }
   ],
   "source": [
    "print(\"\\n8. Summary:\")\n",
    "print(\"=\" * 50)\n",
    "\n",
    "successful_pipelines = [name for name, result in results.items() if result[\"success\"]]\n",
    "failed_pipelines = [name for name, result in results.items() if not result[\"success\"]]\n",
    "\n",
    "print(f\"Successful pipelines: {len(successful_pipelines)}\")\n",
    "if successful_pipelines:\n",
    "    print(f\"  - {', '.join(successful_pipelines)}\")\n",
    "\n",
    "if failed_pipelines:\n",
    "    print(f\"Failed pipelines: {len(failed_pipelines)}\")\n",
    "    print(f\"  - {', '.join(failed_pipelines)}\")\n",
    "\n",
    "# Find best performing pipeline\n",
    "if successful_pipelines:\n",
    "    best_pipeline = max(successful_pipelines, key=lambda p: analysis[p][\"topic_diversity\"])\n",
    "    print(f\"\\nBest topic diversity: {best_pipeline} ({analysis[best_pipeline]['topic_diversity']} topics)\")\n"
   ]
  }
 ],
 "metadata": {
  "kernelspec": {
   "display_name": "poprox-venv",
   "language": "python",
   "name": "python3"
  },
  "language_info": {
   "codemirror_mode": {
    "name": "ipython",
    "version": 3
   },
   "file_extension": ".py",
   "mimetype": "text/x-python",
   "name": "python",
   "nbconvert_exporter": "python",
   "pygments_lexer": "ipython3",
   "version": "3.12.11"
  }
 },
 "nbformat": 4,
 "nbformat_minor": 2
}
